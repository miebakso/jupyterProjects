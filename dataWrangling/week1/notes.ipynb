{
 "cells": [
  {
   "cell_type": "markdown",
   "id": "swedish-chemical",
   "metadata": {},
   "source": [
    "## Data Wrangling Week1\n",
    "\n",
    "### Matthew Ariel Wangsit\n",
    "### S3859392\n",
    "\n",
    "This notes contains the following:\n",
    "\n",
    "- Steps for data analysis\n",
    "- Important of data preprocessing\n",
    "- R\n",
    "\n"
   ]
  },
  {
   "cell_type": "markdown",
   "id": "improved-monkey",
   "metadata": {},
   "source": [
    "## Data Analysis Steps\n",
    "\n",
    "There are 6 important steps for analyzing data:\n",
    "\n",
    "1. **Defining The Problem**  \n",
    "    The first step of data analysis is defining the problem well by the\n",
    "    Organizations/researcher. The data analyst involved should understand the problem and the domain of the problem.  \n",
    "    \n",
    "    \n",
    "2. **Planning and Collecting Data**  \n",
    "    In this stage, we need to plan and prepare the tools necessary collecting the data. We decide what kind of data is needed to solve the problem. Maybe we need to take a survey, access database, scraping the web, or accessing Excel files.\n",
    "\n",
    "\n",
    "3. **Data Preprocesing**  \n",
    "    After gathering the necessary data, we need to make the data ready for further analysis. Preparing data is important because **garbage in = garbage out**. The quality data inputed define and effect the result. Filtering, cleaning, identify outliers, transform variable, importing, reshaping data can be applied to prepare it for statistical analysis. \n",
    "\n",
    "\n",
    "4. **Exploring Data via Descriptive Statistics/Visualizations**  \n",
    "    After we prepare data, we need to understand the characteristic of the data. Descriptive statistics and visualizations helps us learn more about our data.\n",
    "    \n",
    "    - Descriptive analysis:\n",
    "        - Mean\n",
    "        - Median\n",
    "        - Mode\n",
    "        - Standard Deviation\n",
    "        - Frequency\n",
    "        - Percentage\n",
    "        - etc  \n",
    "        \n",
    "    - Visualizations:\n",
    "        - Scatter plots\n",
    "        - Box plot\n",
    "        - histogram\n",
    "        - pie char\n",
    "        - etc\n",
    "  \n",
    "\n",
    "5. **Analysis/Modeling Data**  \n",
    "    Then, the type of variables in the data set and the purpose of the investigations will determine the appropricate technique. Technique such as statistical hypothesis testing, statistical modeling, machine leanring algorithms may be used.  \n",
    "    \n",
    "\n",
    "6. **Interpretation and Reporting**  \n",
    "    The last step is also critical, the data analyst make report and interpret the result. It doesn't matter how well the analysis goes if people can't understand the result or the data analyst can't communicate/explain it well."
   ]
  },
  {
   "cell_type": "markdown",
   "id": "alternate-python",
   "metadata": {},
   "source": [
    "\n",
    "## Data Preprocessing\n",
    "\n",
    "Data preprocessing is getting the data ready before for statistical operation. Data preprocessing/Data Wrangling/Data manimpulation/Data cleaning emphasis on tidying data such as incomplete, noisy, inconsistent data.\n",
    "\n",
    "Remember **Garbage IN = Garbage OUT**\n",
    "\n",
    "Usually data preprocessing have 5 steps:\n",
    "\n",
    "1. **Get**: Data can be stored online/computer/database with different file formats. We need to get the data by importing it from other data source.\n",
    "\n",
    "\n",
    "2. **Understand**: We need to understand the data, checking dimension of the data, structure, variables & attributes, and their meanings.\n",
    "\n",
    "\n",
    "3. **Tidy & Manipulate**: Data can be messy, so we need to tidy it by filtering, arrage, select, split, generate new variable.\n",
    "\n",
    "\n",
    "4. **Scan**: Cheking suspiscious or unreasble data, erros, indentify outlier, and missing value.\n",
    "\n",
    "\n",
    "5. **Transform**: Some statistic analysis method is sensitive to scale of the variable, it maybe necessary to apply transformation before using the data. Ex: standardising, normalising, centering, scaling, transformation."
   ]
  }
 ],
 "metadata": {
  "kernelspec": {
   "display_name": "Python 3",
   "language": "python",
   "name": "python3"
  },
  "language_info": {
   "codemirror_mode": {
    "name": "ipython",
    "version": 3
   },
   "file_extension": ".py",
   "mimetype": "text/x-python",
   "name": "python",
   "nbconvert_exporter": "python",
   "pygments_lexer": "ipython3",
   "version": "3.8.5"
  }
 },
 "nbformat": 4,
 "nbformat_minor": 5
}
